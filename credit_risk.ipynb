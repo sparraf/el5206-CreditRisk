{
 "cells": [
  {
   "cell_type": "code",
   "execution_count": 1,
   "metadata": {},
   "outputs": [],
   "source": [
    "import pandas as pd\n",
    "import numpy as np\n",
    "#import matplotlib\n",
    "#matplotlib.use('TkAgg')\n",
    "import matplotlib.pyplot as plt\n",
    "import seaborn as sns"
   ]
  },
  {
   "cell_type": "code",
   "execution_count": 2,
   "metadata": {},
   "outputs": [],
   "source": [
    "data_raw=pd.read_csv(\"CREDITRISK_RAW.csv\",sep=',', delimiter=\";\")"
   ]
  },
  {
   "cell_type": "code",
   "execution_count": 3,
   "metadata": {},
   "outputs": [],
   "source": [
    "def isNaN(num):\n",
    "    return num != num\n"
   ]
  },
  {
   "cell_type": "code",
   "execution_count": 4,
   "metadata": {
    "scrolled": true
   },
   "outputs": [],
   "source": [
    "import locale\n",
    "categorical_features=[\"GENERO\",\"NIV_EDUC\",\"E_CIVIL\",\"CIUDAD\",\"Aval\",\"PAGA\"]\n",
    "locale.setlocale(locale.LC_ALL, 'en_US.UTF-8')\n",
    "d={}\n",
    "result=pd.DataFrame()\n",
    "for feature in data_raw.columns:\n",
    "    temp=[]\n",
    "    if not feature in categorical_features:\n",
    "        if data_raw[feature].dtype == 'O':\n",
    "            for i in range(data_raw.shape[0]):\n",
    "                if (isNaN(data_raw[feature] [i]) or data_raw[feature] [i]==' '):\n",
    "                    temp.append(0)\n",
    "                elif type(data_raw[feature] [i]) is str:\n",
    "                    temp.append(int(locale.atof(data_raw[feature] [i])))\n",
    "            d[feature] = temp\n",
    "        else:\n",
    "            for i in range(data_raw.shape[0]):\n",
    "                if (isNaN(data_raw[feature] [i])):\n",
    "                    temp.append(0)\n",
    "                else:\n",
    "                    temp.append(data_raw[feature][i])\n",
    "            d[feature] = temp\n",
    "result = pd.DataFrame(d)\n",
    "for feature in categorical_features:\n",
    "    d[feature]=pd.get_dummies(data_raw[feature],prefix=feature)\n",
    "    result = pd.concat([result, d[feature]], axis=1, sort=False)\n",
    "del result['PAGA_NO PAGA']\n",
    "del result['ID']"
   ]
  },
  {
   "cell_type": "code",
   "execution_count": 5,
   "metadata": {},
   "outputs": [],
   "source": [
    "from sklearn.ensemble import RandomForestClassifier\n",
    "from sklearn.datasets import make_classification\n",
    "from sklearn.model_selection import train_test_split\n",
    "\n",
    "train,test = train_test_split(result, test_size=0.2)\n",
    "\n",
    "clf = RandomForestClassifier(n_estimators=100, max_depth=2,random_state=0)\n",
    "clf.fit(train.drop(['PAGA_PAGA'], axis=1), train['PAGA_PAGA'])\n",
    "pred=clf.predict(test.drop(['PAGA_PAGA'], axis=1))"
   ]
  },
  {
   "cell_type": "code",
   "execution_count": 6,
   "metadata": {},
   "outputs": [
    {
     "data": {
      "text/html": [
       "<div>\n",
       "<style scoped>\n",
       "    .dataframe tbody tr th:only-of-type {\n",
       "        vertical-align: middle;\n",
       "    }\n",
       "\n",
       "    .dataframe tbody tr th {\n",
       "        vertical-align: top;\n",
       "    }\n",
       "\n",
       "    .dataframe thead th {\n",
       "        text-align: right;\n",
       "    }\n",
       "</style>\n",
       "<table border=\"1\" class=\"dataframe\">\n",
       "  <thead>\n",
       "    <tr style=\"text-align: right;\">\n",
       "      <th></th>\n",
       "      <th>0</th>\n",
       "      <th>1</th>\n",
       "    </tr>\n",
       "  </thead>\n",
       "  <tbody>\n",
       "    <tr>\n",
       "      <th>0</th>\n",
       "      <td>189</td>\n",
       "      <td>40</td>\n",
       "    </tr>\n",
       "    <tr>\n",
       "      <th>1</th>\n",
       "      <td>34</td>\n",
       "      <td>196</td>\n",
       "    </tr>\n",
       "  </tbody>\n",
       "</table>\n",
       "</div>"
      ],
      "text/plain": [
       "     0    1\n",
       "0  189   40\n",
       "1   34  196"
      ]
     },
     "execution_count": 6,
     "metadata": {},
     "output_type": "execute_result"
    }
   ],
   "source": [
    "from sklearn.metrics import confusion_matrix\n",
    "pd.DataFrame(confusion_matrix(test['PAGA_PAGA'], pred))"
   ]
  },
  {
   "cell_type": "code",
   "execution_count": 7,
   "metadata": {
    "scrolled": true
   },
   "outputs": [
    {
     "data": {
      "text/plain": [
       "0.8387799564270153"
      ]
     },
     "execution_count": 7,
     "metadata": {},
     "output_type": "execute_result"
    }
   ],
   "source": [
    "from sklearn.metrics import accuracy_score\n",
    "accuracy_score(test['PAGA_PAGA'], pred)"
   ]
  },
  {
   "cell_type": "code",
   "execution_count": 8,
   "metadata": {},
   "outputs": [
    {
     "name": "stdout",
     "output_type": "stream",
     "text": [
      "EStadisticas RENTA:\n",
      "\n",
      "count    2.294000e+03\n",
      "mean     1.730736e+06\n",
      "std      2.263083e+06\n",
      "min      0.000000e+00\n",
      "25%      5.000000e+05\n",
      "50%      8.000000e+05\n",
      "75%      1.579750e+06\n",
      "max      9.940000e+06\n",
      "Name: RENTA, dtype: float64\n",
      "\n",
      "The median of the Housing Price is:  800000.0\n"
     ]
    }
   ],
   "source": [
    "import seaborn as sns\n",
    "import matplotlib.pyplot as plt\n",
    "print(\"EStadisticas RENTA:\\n\")\n",
    "print(result[\"RENTA\"].describe())\n",
    "print(\"\\nThe median of the Housing Price is: \", result[\"RENTA\"].median(axis = 0))"
   ]
  },
  {
   "cell_type": "code",
   "execution_count": 9,
   "metadata": {
    "scrolled": false
   },
   "outputs": [
    {
     "ename": "NameError",
     "evalue": "name 'Paga' is not defined",
     "output_type": "error",
     "traceback": [
      "\u001b[0;31m---------------------------------------------------------------------------\u001b[0m",
      "\u001b[0;31mNameError\u001b[0m                                 Traceback (most recent call last)",
      "\u001b[0;32m<ipython-input-9-15dc3d25e576>\u001b[0m in \u001b[0;36m<module>\u001b[0;34m()\u001b[0m\n\u001b[1;32m      1\u001b[0m \u001b[0mfig\u001b[0m\u001b[0;34m,\u001b[0m \u001b[0max\u001b[0m \u001b[0;34m=\u001b[0m \u001b[0mplt\u001b[0m\u001b[0;34m.\u001b[0m\u001b[0msubplots\u001b[0m\u001b[0;34m(\u001b[0m\u001b[0;36m1\u001b[0m\u001b[0;34m,\u001b[0m\u001b[0;36m2\u001b[0m\u001b[0;34m,\u001b[0m \u001b[0msharex\u001b[0m\u001b[0;34m=\u001b[0m\u001b[0;34m'col'\u001b[0m\u001b[0;34m,\u001b[0m \u001b[0msharey\u001b[0m\u001b[0;34m=\u001b[0m\u001b[0;34m'row'\u001b[0m\u001b[0;34m,\u001b[0m\u001b[0mfigsize\u001b[0m\u001b[0;34m=\u001b[0m\u001b[0;34m(\u001b[0m\u001b[0;36m20\u001b[0m\u001b[0;34m,\u001b[0m\u001b[0;36m10\u001b[0m\u001b[0;34m)\u001b[0m\u001b[0;34m)\u001b[0m\u001b[0;34m\u001b[0m\u001b[0m\n\u001b[0;32m----> 2\u001b[0;31m \u001b[0msns\u001b[0m\u001b[0;34m.\u001b[0m\u001b[0mdistplot\u001b[0m\u001b[0;34m(\u001b[0m\u001b[0mPaga\u001b[0m\u001b[0;34m[\u001b[0m\u001b[0;34m\"RENTA\"\u001b[0m\u001b[0;34m]\u001b[0m\u001b[0;34m,\u001b[0m \u001b[0mkde\u001b[0m \u001b[0;34m=\u001b[0m \u001b[0;32mTrue\u001b[0m\u001b[0;34m,\u001b[0m \u001b[0mcolor\u001b[0m \u001b[0;34m=\u001b[0m \u001b[0;34m'r'\u001b[0m\u001b[0;34m,\u001b[0m \u001b[0mhist_kws\u001b[0m\u001b[0;34m=\u001b[0m\u001b[0;34m{\u001b[0m\u001b[0;34m'alpha'\u001b[0m\u001b[0;34m:\u001b[0m \u001b[0;36m0.4\u001b[0m\u001b[0;34m}\u001b[0m\u001b[0;34m,\u001b[0m \u001b[0max\u001b[0m\u001b[0;34m=\u001b[0m\u001b[0max\u001b[0m\u001b[0;34m[\u001b[0m\u001b[0;36m0\u001b[0m\u001b[0;34m]\u001b[0m\u001b[0;34m,\u001b[0m\u001b[0maxlabel\u001b[0m \u001b[0;34m=\u001b[0m\u001b[0;34m\"Paga\"\u001b[0m\u001b[0;34m)\u001b[0m\u001b[0;34m\u001b[0m\u001b[0m\n\u001b[0m\u001b[1;32m      3\u001b[0m \u001b[0msns\u001b[0m\u001b[0;34m.\u001b[0m\u001b[0mdistplot\u001b[0m\u001b[0;34m(\u001b[0m\u001b[0mNoPaga\u001b[0m\u001b[0;34m[\u001b[0m\u001b[0;34m\"RENTA\"\u001b[0m\u001b[0;34m]\u001b[0m\u001b[0;34m,\u001b[0m \u001b[0mkde\u001b[0m \u001b[0;34m=\u001b[0m \u001b[0;32mTrue\u001b[0m\u001b[0;34m,\u001b[0m \u001b[0mcolor\u001b[0m \u001b[0;34m=\u001b[0m \u001b[0;34m'b'\u001b[0m\u001b[0;34m,\u001b[0m \u001b[0mhist_kws\u001b[0m\u001b[0;34m=\u001b[0m\u001b[0;34m{\u001b[0m\u001b[0;34m'alpha'\u001b[0m\u001b[0;34m:\u001b[0m \u001b[0;36m0.4\u001b[0m\u001b[0;34m}\u001b[0m\u001b[0;34m,\u001b[0m\u001b[0max\u001b[0m\u001b[0;34m=\u001b[0m\u001b[0max\u001b[0m\u001b[0;34m[\u001b[0m\u001b[0;36m1\u001b[0m\u001b[0;34m]\u001b[0m\u001b[0;34m,\u001b[0m\u001b[0maxlabel\u001b[0m \u001b[0;34m=\u001b[0m\u001b[0;34m\"No Paga\"\u001b[0m\u001b[0;34m)\u001b[0m\u001b[0;34m\u001b[0m\u001b[0m\n",
      "\u001b[0;31mNameError\u001b[0m: name 'Paga' is not defined"
     ]
    },
    {
     "data": {
      "image/png": "[encoded data removed]",
      "text/plain": [
       "<Figure size 1440x720 with 2 Axes>"
      ]
     },
     "metadata": {},
     "output_type": "display_data"
    }
   ],
   "source": [
    "fig, ax = plt.subplots(1,2, sharex='col', sharey='row',figsize=(20,10))\n",
    "sns.distplot(Paga[\"RENTA\"], kde = True, color = 'r', hist_kws={'alpha': 0.4}, ax=ax[0],axlabel =\"Paga\")\n",
    "sns.distplot(NoPaga[\"RENTA\"], kde = True, color = 'b', hist_kws={'alpha': 0.4},ax=ax[1],axlabel =\"No Paga\")"
   ]
  },
  {
   "cell_type": "code",
   "execution_count": 10,
   "metadata": {},
   "outputs": [
    {
     "data": {
      "text/plain": [
       "14"
      ]
     },
     "execution_count": 10,
     "metadata": {},
     "output_type": "execute_result"
    }
   ],
   "source": [
    "data_raw.columns.shape[0]-len(categorical_features)"
   ]
  },
  {
   "cell_type": "code",
   "execution_count": 11,
   "metadata": {},
   "outputs": [
    {
     "ename": "NameError",
     "evalue": "name 'Paga' is not defined",
     "output_type": "error",
     "traceback": [
      "\u001b[0;31m---------------------------------------------------------------------------\u001b[0m",
      "\u001b[0;31mNameError\u001b[0m                                 Traceback (most recent call last)",
      "\u001b[0;32m<ipython-input-11-eff2e17614e1>\u001b[0m in \u001b[0;36m<module>\u001b[0;34m()\u001b[0m\n\u001b[1;32m      1\u001b[0m \u001b[0mfig\u001b[0m\u001b[0;34m,\u001b[0m \u001b[0max\u001b[0m \u001b[0;34m=\u001b[0m \u001b[0mplt\u001b[0m\u001b[0;34m.\u001b[0m\u001b[0msubplots\u001b[0m\u001b[0;34m(\u001b[0m\u001b[0;36m1\u001b[0m\u001b[0;34m,\u001b[0m\u001b[0;36m2\u001b[0m\u001b[0;34m,\u001b[0m \u001b[0msharex\u001b[0m\u001b[0;34m=\u001b[0m\u001b[0;34m'col'\u001b[0m\u001b[0;34m,\u001b[0m \u001b[0msharey\u001b[0m\u001b[0;34m=\u001b[0m\u001b[0;34m'row'\u001b[0m\u001b[0;34m,\u001b[0m\u001b[0mfigsize\u001b[0m\u001b[0;34m=\u001b[0m\u001b[0;34m(\u001b[0m\u001b[0;36m20\u001b[0m\u001b[0;34m,\u001b[0m\u001b[0;36m10\u001b[0m\u001b[0;34m)\u001b[0m\u001b[0;34m)\u001b[0m\u001b[0;34m\u001b[0m\u001b[0m\n\u001b[0;32m----> 2\u001b[0;31m \u001b[0msns\u001b[0m\u001b[0;34m.\u001b[0m\u001b[0mdistplot\u001b[0m\u001b[0;34m(\u001b[0m\u001b[0mPaga\u001b[0m\u001b[0;34m[\u001b[0m\u001b[0;34m\"EDAD\"\u001b[0m\u001b[0;34m]\u001b[0m\u001b[0;34m,\u001b[0m \u001b[0mkde\u001b[0m \u001b[0;34m=\u001b[0m \u001b[0;32mTrue\u001b[0m\u001b[0;34m,\u001b[0m \u001b[0mcolor\u001b[0m \u001b[0;34m=\u001b[0m \u001b[0;34m'r'\u001b[0m\u001b[0;34m,\u001b[0m \u001b[0mhist_kws\u001b[0m\u001b[0;34m=\u001b[0m\u001b[0;34m{\u001b[0m\u001b[0;34m'alpha'\u001b[0m\u001b[0;34m:\u001b[0m \u001b[0;36m0.4\u001b[0m\u001b[0;34m}\u001b[0m\u001b[0;34m,\u001b[0m \u001b[0max\u001b[0m\u001b[0;34m=\u001b[0m\u001b[0max\u001b[0m\u001b[0;34m[\u001b[0m\u001b[0;36m0\u001b[0m\u001b[0;34m]\u001b[0m\u001b[0;34m,\u001b[0m\u001b[0maxlabel\u001b[0m \u001b[0;34m=\u001b[0m\u001b[0;34m\"Paga\"\u001b[0m\u001b[0;34m)\u001b[0m\u001b[0;34m\u001b[0m\u001b[0m\n\u001b[0m\u001b[1;32m      3\u001b[0m \u001b[0msns\u001b[0m\u001b[0;34m.\u001b[0m\u001b[0mdistplot\u001b[0m\u001b[0;34m(\u001b[0m\u001b[0mNoPaga\u001b[0m\u001b[0;34m[\u001b[0m\u001b[0;34m\"EDAD\"\u001b[0m\u001b[0;34m]\u001b[0m\u001b[0;34m,\u001b[0m \u001b[0mkde\u001b[0m \u001b[0;34m=\u001b[0m \u001b[0;32mTrue\u001b[0m\u001b[0;34m,\u001b[0m \u001b[0mcolor\u001b[0m \u001b[0;34m=\u001b[0m \u001b[0;34m'b'\u001b[0m\u001b[0;34m,\u001b[0m \u001b[0mhist_kws\u001b[0m\u001b[0;34m=\u001b[0m\u001b[0;34m{\u001b[0m\u001b[0;34m'alpha'\u001b[0m\u001b[0;34m:\u001b[0m \u001b[0;36m0.4\u001b[0m\u001b[0;34m}\u001b[0m\u001b[0;34m,\u001b[0m\u001b[0max\u001b[0m\u001b[0;34m=\u001b[0m\u001b[0max\u001b[0m\u001b[0;34m[\u001b[0m\u001b[0;36m1\u001b[0m\u001b[0;34m]\u001b[0m\u001b[0;34m,\u001b[0m\u001b[0maxlabel\u001b[0m \u001b[0;34m=\u001b[0m\u001b[0;34m\"No Paga\"\u001b[0m\u001b[0;34m)\u001b[0m\u001b[0;34m\u001b[0m\u001b[0m\n",
      "\u001b[0;31mNameError\u001b[0m: name 'Paga' is not defined"
     ]
    },
    {
     "data": {
      "image/png": "[encoded data removed]",
      "text/plain": [
       "<Figure size 1440x720 with 2 Axes>"
      ]
     },
     "metadata": {},
     "output_type": "display_data"
    }
   ],
   "source": [
    "fig, ax = plt.subplots(1,2, sharex='col', sharey='row',figsize=(20,10))\n",
    "sns.distplot(Paga[\"EDAD\"], kde = True, color = 'r', hist_kws={'alpha': 0.4}, ax=ax[0],axlabel =\"Paga\")\n",
    "sns.distplot(NoPaga[\"EDAD\"], kde = True, color = 'b', hist_kws={'alpha': 0.4},ax=ax[1],axlabel =\"No Paga\")"
   ]
  },
  {
   "cell_type": "code",
   "execution_count": null,
   "metadata": {},
   "outputs": [],
   "source": [
    "fig, ax = plt.subplots(1,2, sharex='col', sharey='row',figsize=(20,10))\n",
    "sns.distplot(Paga[\"COD_OFI\"], kde = True, color = 'r', hist_kws={'alpha': 0.4}, ax=ax[0],axlabel =\"Paga\")\n",
    "sns.distplot(NoPaga[\"COD_OFI\"], kde = True, color = 'b', hist_kws={'alpha': 0.4},ax=ax[1],axlabel =\"No Paga\")"
   ]
  },
  {
   "cell_type": "code",
   "execution_count": null,
   "metadata": {},
   "outputs": [],
   "source": [
    "fig, ax = plt.subplots(1,2, sharex='col', sharey='row',figsize=(20,10))\n",
    "sns.distplot(Paga[\"COD_COM\"], kde = True, color = 'r', hist_kws={'alpha': 0.4}, ax=ax[0],axlabel =\"Paga\")\n",
    "sns.distplot(NoPaga[\"COD_COM\"], kde = True, color = 'b', hist_kws={'alpha': 0.4},ax=ax[1],axlabel =\"No Paga\")"
   ]
  },
  {
   "cell_type": "code",
   "execution_count": null,
   "metadata": {},
   "outputs": [],
   "source": [
    "fig, ax = plt.subplots(1,2, sharex='col', sharey='row',figsize=(20,10))\n",
    "sns.distplot(Paga[\"Monto solicitado\"], kde = True, color = 'r', hist_kws={'alpha': 0.4}, ax=ax[0],axlabel =\"Paga\")\n",
    "sns.distplot(NoPaga[\"Monto solicitado\"], kde = True, color = 'b', hist_kws={'alpha': 0.4},ax=ax[1],axlabel =\"No Paga\")"
   ]
  },
  {
   "cell_type": "code",
   "execution_count": null,
   "metadata": {},
   "outputs": [],
   "source": [
    "fig, ax = plt.subplots(1,2, sharex='col', sharey='row',figsize=(20,10))\n",
    "sns.distplot(Paga[\"Días de Mora\"], kde = True, color = 'r', hist_kws={'alpha': 0.4}, ax=ax[0],axlabel =\"Paga\")\n",
    "sns.distplot(NoPaga[\"Días de Mora\"], kde = True, color = 'b', hist_kws={'alpha': 0.4},ax=ax[1],axlabel =\"No Paga\")"
   ]
  },
  {
   "cell_type": "code",
   "execution_count": null,
   "metadata": {},
   "outputs": [],
   "source": [
    "fig, ax = plt.subplots(1,2, sharex='col', sharey='row',figsize=(20,10))\n",
    "sns.distplot(Paga[\"Monto Deuda Promedio\"], kde = True, color = 'r', hist_kws={'alpha': 0.4}, ax=ax[0],axlabel =\"Paga\")\n",
    "sns.distplot(NoPaga[\"Monto Deuda Promedio\"], kde = True, color = 'b', hist_kws={'alpha': 0.4},ax=ax[1],axlabel =\"No Paga\")"
   ]
  },
  {
   "cell_type": "code",
   "execution_count": null,
   "metadata": {},
   "outputs": [],
   "source": [
    "fig, ax = plt.subplots(1,2, sharex='col', sharey='row',figsize=(20,10))\n",
    "sns.distplot(Paga[\"Número de meses inactivo\"], kde = True, color = 'r', hist_kws={'alpha': 0.4}, ax=ax[0],axlabel =\"Paga\")\n",
    "sns.distplot(NoPaga[\"Número de meses inactivo\"], kde = True, color = 'b', hist_kws={'alpha': 0.4},ax=ax[1],axlabel =\"No Paga\")"
   ]
  },
  {
   "cell_type": "code",
   "execution_count": null,
   "metadata": {},
   "outputs": [],
   "source": [
    "fig, ax = plt.subplots(1,2, sharex='col', sharey='row',figsize=(20,10))\n",
    "sns.distplot(Paga[\"numero de cuotas\"], kde = True, color = 'r', hist_kws={'alpha': 0.4}, ax=ax[0],axlabel =\"Paga\")\n",
    "sns.distplot(NoPaga[\"numero de cuotas\"], kde = True, color = 'b', hist_kws={'alpha': 0.4},ax=ax[1],axlabel =\"No Paga\")"
   ]
  },
  {
   "cell_type": "code",
   "execution_count": null,
   "metadata": {},
   "outputs": [],
   "source": [
    "from sklearn.linear_model import LogisticRegression\n",
    "clf = LogisticRegression(penalty='l1',random_state=0, solver='liblinear').fit(train.drop(['PAGA_PAGA'], axis=1), train['PAGA_PAGA'])\n",
    "pred=clf.predict(test.drop(['PAGA_PAGA'], axis=1))\n",
    "accuracy_score(test['PAGA_PAGA'], pred)"
   ]
  },
  {
   "cell_type": "code",
   "execution_count": null,
   "metadata": {},
   "outputs": [],
   "source": []
  }
 ],
 "metadata": {
  "kernelspec": {
   "display_name": "Python 3",
   "language": "python",
   "name": "python3"
  },
  "language_info": {
   "codemirror_mode": {
    "name": "ipython",
    "version": 3
   },
   "file_extension": ".py",
   "mimetype": "text/x-python",
   "name": "python",
   "nbconvert_exporter": "python",
   "pygments_lexer": "ipython3",
   "version": "3.6.4"
  }
 },
 "nbformat": 4,
 "nbformat_minor": 2
}
